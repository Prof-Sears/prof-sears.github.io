{
 "cells": [
  {
   "cell_type": "markdown",
   "id": "b095f873",
   "metadata": {},
   "source": [
    "# Riddler Express - 2021-08-13"
   ]
  },
  {
   "cell_type": "markdown",
   "id": "66b0d982",
   "metadata": {},
   "source": [
    "## Function to run one trial"
   ]
  },
  {
   "cell_type": "code",
   "execution_count": 2,
   "id": "4cf963d9",
   "metadata": {},
   "outputs": [],
   "source": [
    "import random\n",
    "def trial():\n",
    "    you = random.uniform(0.9, 1.0)\n",
    "    cleverest = True\n",
    "    for i in range(0, 9):\n",
    "        if(you < random.uniform(0.0, 1.0)):\n",
    "            cleverest = False\n",
    "            \n",
    "    return cleverest\n",
    "# end trial()"
   ]
  },
  {
   "cell_type": "markdown",
   "id": "80fb1dfe",
   "metadata": {},
   "source": [
    "## Function to run mutiple trials as a simulation"
   ]
  },
  {
   "cell_type": "code",
   "execution_count": 5,
   "id": "eaf15f00",
   "metadata": {},
   "outputs": [
    {
     "name": "stdout",
     "output_type": "stream",
     "text": [
      "0.622\n"
     ]
    }
   ],
   "source": [
    "maxTrials = 1000\n",
    "def simulation():\n",
    "    successes = 0\n",
    "    for i in range(0, maxTrials):\n",
    "        if(trial()):\n",
    "            successes += 1\n",
    "    return successes / maxTrials\n",
    "\n",
    "print(simulation())"
   ]
  },
  {
   "cell_type": "markdown",
   "id": "d2f867cb",
   "metadata": {},
   "source": [
    "## Run multiple simulations and collect the results"
   ]
  },
  {
   "cell_type": "code",
   "execution_count": 7,
   "id": "c25409cc",
   "metadata": {},
   "outputs": [],
   "source": [
    "data = []\n",
    "for i in range(1000):\n",
    "    data.append(simulation())"
   ]
  },
  {
   "cell_type": "markdown",
   "id": "bb496657",
   "metadata": {},
   "source": [
    "## Print the mean of the simulations.\n",
    "This is our reasonable estimate of the answer."
   ]
  },
  {
   "cell_type": "code",
   "execution_count": 9,
   "id": "1730aab0",
   "metadata": {
    "scrolled": true
   },
   "outputs": [
    {
     "data": {
      "text/plain": [
       "0.651563"
      ]
     },
     "execution_count": 9,
     "metadata": {},
     "output_type": "execute_result"
    }
   ],
   "source": [
    "import numpy as np\n",
    "\n",
    "np.mean(data)"
   ]
  },
  {
   "cell_type": "markdown",
   "id": "b54e96a6",
   "metadata": {},
   "source": [
    "## Display the distribution of the simulation results\n",
    "Should be familiar to anyone who has seen the Central Limit Theorem from statistics."
   ]
  },
  {
   "cell_type": "code",
   "execution_count": 11,
   "id": "3199d227",
   "metadata": {},
   "outputs": [
    {
     "data": {
      "text/plain": [
       "(array([  5.,  18.,  72., 145., 226., 264., 165.,  82.,  17.,   6.]),\n",
       " array([0.6   , 0.6102, 0.6204, 0.6306, 0.6408, 0.651 , 0.6612, 0.6714,\n",
       "        0.6816, 0.6918, 0.702 ]),\n",
       " <BarContainer object of 10 artists>)"
      ]
     },
     "execution_count": 11,
     "metadata": {},
     "output_type": "execute_result"
    },
    {
     "data": {
      "image/png": "[encoded data removed]",
      "text/plain": [
       "<Figure size 432x288 with 1 Axes>"
      ]
     },
     "metadata": {
      "needs_background": "light"
     },
     "output_type": "display_data"
    }
   ],
   "source": [
    "import matplotlib.pyplot as plt\n",
    "plt.hist(data)"
   ]
  }
 ],
 "metadata": {
  "kernelspec": {
   "display_name": "Python 3",
   "language": "python",
   "name": "python3"
  },
  "language_info": {
   "codemirror_mode": {
    "name": "ipython",
    "version": 3
   },
   "file_extension": ".py",
   "mimetype": "text/x-python",
   "name": "python",
   "nbconvert_exporter": "python",
   "pygments_lexer": "ipython3",
   "version": "3.8.8"
  }
 },
 "nbformat": 4,
 "nbformat_minor": 5
}
