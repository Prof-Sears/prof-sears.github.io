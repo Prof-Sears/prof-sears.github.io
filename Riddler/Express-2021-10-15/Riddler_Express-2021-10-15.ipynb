{
 "cells": [
  {
   "cell_type": "markdown",
   "metadata": {},
   "source": [
    "# Riddler Express - October 15, 2021\n",
    "This week's Riddler Express is about baseball.\n",
    ">The American League Championship Series of Riddler League Baseball determines one of the teams that will compete in the Riddler World Series. This year’s teams — the Tampa Bay Lines and the Minnesota Twin Primes — are evenly matched. In other words, both teams are equally likely to win each game of the best-of-seven series.\n",
    "\n",
    ">On average, how many games will the series last? (Note that the series ends as soon as one team has won four games.)\n",
    "\n",
    "[Problem Statement](https://fivethirtyeight.com/features/can-you-hit-these-riddles-out-of-the-park/)\n",
    "\n",
    "This is my second stab at a solution.\n",
    "\n",
    "## Recursive Function\n",
    "The quickest and most fun way to code a solution is to use recursion. The first thing we'll do is define the recursive function."
   ]
  },
  {
   "cell_type": "code",
   "execution_count": 1,
   "metadata": {},
   "outputs": [],
   "source": [
    "def recursiveSearch(arr, sym):\n",
    "    myArr = arr.copy()\n",
    "    myArr.append(sym)\n",
    "    if(myArr.count(\"L\") == 4) or (myArr.count(\"P\") == 4):\n",
    "        print(myArr)\n",
    "        return len(myArr) * 0.5 ** len(myArr) # This is what I flubbed in my first attempt.\n",
    "    else:\n",
    "        return recursiveSearch(myArr, \"L\") + recursiveSearch(myArr, \"P\")"
   ]
  },
  {
   "cell_type": "markdown",
   "metadata": {},
   "source": [
    "## Ready to Search\n",
    "Now we will run the recursive function to get the expected value."
   ]
  },
  {
   "cell_type": "code",
   "execution_count": 2,
   "metadata": {},
   "outputs": [
    {
     "name": "stdout",
     "output_type": "stream",
     "text": [
      "['L', 'L', 'L', 'L']\n",
      "['L', 'L', 'L', 'P', 'L']\n",
      "['L', 'L', 'L', 'P', 'P', 'L']\n",
      "['L', 'L', 'L', 'P', 'P', 'P', 'L']\n",
      "['L', 'L', 'L', 'P', 'P', 'P', 'P']\n",
      "['L', 'L', 'P', 'L', 'L']\n",
      "['L', 'L', 'P', 'L', 'P', 'L']\n",
      "['L', 'L', 'P', 'L', 'P', 'P', 'L']\n",
      "['L', 'L', 'P', 'L', 'P', 'P', 'P']\n",
      "['L', 'L', 'P', 'P', 'L', 'L']\n",
      "['L', 'L', 'P', 'P', 'L', 'P', 'L']\n",
      "['L', 'L', 'P', 'P', 'L', 'P', 'P']\n",
      "['L', 'L', 'P', 'P', 'P', 'L', 'L']\n",
      "['L', 'L', 'P', 'P', 'P', 'L', 'P']\n",
      "['L', 'L', 'P', 'P', 'P', 'P']\n",
      "['L', 'P', 'L', 'L', 'L']\n",
      "['L', 'P', 'L', 'L', 'P', 'L']\n",
      "['L', 'P', 'L', 'L', 'P', 'P', 'L']\n",
      "['L', 'P', 'L', 'L', 'P', 'P', 'P']\n",
      "['L', 'P', 'L', 'P', 'L', 'L']\n",
      "['L', 'P', 'L', 'P', 'L', 'P', 'L']\n",
      "['L', 'P', 'L', 'P', 'L', 'P', 'P']\n",
      "['L', 'P', 'L', 'P', 'P', 'L', 'L']\n",
      "['L', 'P', 'L', 'P', 'P', 'L', 'P']\n",
      "['L', 'P', 'L', 'P', 'P', 'P']\n",
      "['L', 'P', 'P', 'L', 'L', 'L']\n",
      "['L', 'P', 'P', 'L', 'L', 'P', 'L']\n",
      "['L', 'P', 'P', 'L', 'L', 'P', 'P']\n",
      "['L', 'P', 'P', 'L', 'P', 'L', 'L']\n",
      "['L', 'P', 'P', 'L', 'P', 'L', 'P']\n",
      "['L', 'P', 'P', 'L', 'P', 'P']\n",
      "['L', 'P', 'P', 'P', 'L', 'L', 'L']\n",
      "['L', 'P', 'P', 'P', 'L', 'L', 'P']\n",
      "['L', 'P', 'P', 'P', 'L', 'P']\n",
      "['L', 'P', 'P', 'P', 'P']\n",
      "['P', 'L', 'L', 'L', 'L']\n",
      "['P', 'L', 'L', 'L', 'P', 'L']\n",
      "['P', 'L', 'L', 'L', 'P', 'P', 'L']\n",
      "['P', 'L', 'L', 'L', 'P', 'P', 'P']\n",
      "['P', 'L', 'L', 'P', 'L', 'L']\n",
      "['P', 'L', 'L', 'P', 'L', 'P', 'L']\n",
      "['P', 'L', 'L', 'P', 'L', 'P', 'P']\n",
      "['P', 'L', 'L', 'P', 'P', 'L', 'L']\n",
      "['P', 'L', 'L', 'P', 'P', 'L', 'P']\n",
      "['P', 'L', 'L', 'P', 'P', 'P']\n",
      "['P', 'L', 'P', 'L', 'L', 'L']\n",
      "['P', 'L', 'P', 'L', 'L', 'P', 'L']\n",
      "['P', 'L', 'P', 'L', 'L', 'P', 'P']\n",
      "['P', 'L', 'P', 'L', 'P', 'L', 'L']\n",
      "['P', 'L', 'P', 'L', 'P', 'L', 'P']\n",
      "['P', 'L', 'P', 'L', 'P', 'P']\n",
      "['P', 'L', 'P', 'P', 'L', 'L', 'L']\n",
      "['P', 'L', 'P', 'P', 'L', 'L', 'P']\n",
      "['P', 'L', 'P', 'P', 'L', 'P']\n",
      "['P', 'L', 'P', 'P', 'P']\n",
      "['P', 'P', 'L', 'L', 'L', 'L']\n",
      "['P', 'P', 'L', 'L', 'L', 'P', 'L']\n",
      "['P', 'P', 'L', 'L', 'L', 'P', 'P']\n",
      "['P', 'P', 'L', 'L', 'P', 'L', 'L']\n",
      "['P', 'P', 'L', 'L', 'P', 'L', 'P']\n",
      "['P', 'P', 'L', 'L', 'P', 'P']\n",
      "['P', 'P', 'L', 'P', 'L', 'L', 'L']\n",
      "['P', 'P', 'L', 'P', 'L', 'L', 'P']\n",
      "['P', 'P', 'L', 'P', 'L', 'P']\n",
      "['P', 'P', 'L', 'P', 'P']\n",
      "['P', 'P', 'P', 'L', 'L', 'L', 'L']\n",
      "['P', 'P', 'P', 'L', 'L', 'L', 'P']\n",
      "['P', 'P', 'P', 'L', 'L', 'P']\n",
      "['P', 'P', 'P', 'L', 'P']\n",
      "['P', 'P', 'P', 'P']\n",
      "Expected value of series length: 5.8125\n"
     ]
    }
   ],
   "source": [
    "arr = []\n",
    "print(\"Expected value of series length: {0}\".format(recursiveSearch(arr, \"L\") + recursiveSearch(arr, \"P\")))"
   ]
  },
  {
   "cell_type": "markdown",
   "metadata": {},
   "source": [
    "## Conclusion\n",
    "The expected series length is 5.815 games."
   ]
  }
 ],
 "metadata": {
  "kernelspec": {
   "display_name": "Python 3",
   "language": "python",
   "name": "python3"
  },
  "language_info": {
   "codemirror_mode": {
    "name": "ipython",
    "version": 3
   },
   "file_extension": ".py",
   "mimetype": "text/x-python",
   "name": "python",
   "nbconvert_exporter": "python",
   "pygments_lexer": "ipython3",
   "version": "3.8.10"
  }
 },
 "nbformat": 4,
 "nbformat_minor": 4
}
