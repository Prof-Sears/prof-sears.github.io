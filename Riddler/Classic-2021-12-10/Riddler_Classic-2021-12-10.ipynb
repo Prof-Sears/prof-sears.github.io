{
 "cells": [
  {
   "cell_type": "code",
   "execution_count": 15,
   "id": "26c952b3",
   "metadata": {},
   "outputs": [],
   "source": [
    "import random\n",
    "\n",
    "\n",
    "def simulate_relay(n1, n2, n3):\n",
    "    us = 0\n",
    "    them = 0\n",
    "    while max(us, them) < 15:\n",
    "        if random.random() < n1:\n",
    "            us += 1\n",
    "        else:\n",
    "            them += 1\n",
    "    while max(us, them) < 30:\n",
    "        if random.random() < n2:\n",
    "            us += 1\n",
    "        else:\n",
    "            them += 1\n",
    "    while max(us, them) < 45:\n",
    "        if random.random() < n3:\n",
    "            us += 1\n",
    "        else:\n",
    "            them += 1\n",
    "    if us < them:\n",
    "        return 0\n",
    "    else:\n",
    "        return 1"
   ]
  },
  {
   "cell_type": "code",
   "execution_count": 21,
   "id": "d39dfdb3",
   "metadata": {},
   "outputs": [
    {
     "name": "stdout",
     "output_type": "stream",
     "text": [
      "0.931546\n",
      "0.825836\n",
      "0.924594\n",
      "0.075305\n",
      "0.173775\n",
      "0.068397\n"
     ]
    }
   ],
   "source": [
    "simulations = 1000000\n",
    "wins = 0\n",
    "for i in range(simulations):\n",
    "    wins += simulate_relay(0.25, 0.5, 0.75)\n",
    "print(wins/simulations)\n",
    "\n",
    "wins = 0\n",
    "for i in range(simulations):\n",
    "    wins += simulate_relay(0.25, 0.75, 0.5)\n",
    "print(wins/simulations)\n",
    "\n",
    "wins = 0\n",
    "for i in range(simulations):\n",
    "    wins += simulate_relay(0.5, 0.25, 0.75)\n",
    "print(wins/simulations)\n",
    "\n",
    "wins = 0\n",
    "for i in range(simulations):\n",
    "    wins += simulate_relay(0.5, 0.75, 0.25)\n",
    "print(wins/simulations)\n",
    "\n",
    "wins = 0\n",
    "for i in range(simulations):\n",
    "    wins += simulate_relay(0.75, 0.25, 0.5)\n",
    "print(wins/simulations)\n",
    "\n",
    "wins = 0\n",
    "for i in range(simulations):\n",
    "    wins += simulate_relay(0.75, 0.5, 0.25)\n",
    "print(wins/simulations)"
   ]
  }
 ],
 "metadata": {
  "kernelspec": {
   "display_name": "Python 3 (ipykernel)",
   "language": "python",
   "name": "python3"
  },
  "language_info": {
   "codemirror_mode": {
    "name": "ipython",
    "version": 3
   },
   "file_extension": ".py",
   "mimetype": "text/x-python",
   "name": "python",
   "nbconvert_exporter": "python",
   "pygments_lexer": "ipython3",
   "version": "3.9.7"
  }
 },
 "nbformat": 4,
 "nbformat_minor": 5
}
