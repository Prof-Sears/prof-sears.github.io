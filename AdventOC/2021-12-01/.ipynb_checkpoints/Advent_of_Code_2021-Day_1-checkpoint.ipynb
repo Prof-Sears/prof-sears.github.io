{
 "cells": [
  {
   "cell_type": "markdown",
   "id": "ba001261",
   "metadata": {},
   "source": [
    "# Advent of Code 2021 - Day 1\n",
    "\n",
    "## Link to Puzzle\n",
    "[Advent of Code 2021 Day 1](https://adventofcode.com/2021/day/1)\n",
    "\n",
    "## Input of the data\n",
    "Since the data for the puzzles are lines of text, we can input the data the same way each time."
   ]
  },
  {
   "cell_type": "code",
   "execution_count": 1,
   "id": "8a0cdd34",
   "metadata": {
    "scrolled": true
   },
   "outputs": [
    {
     "name": "stdout",
     "output_type": "stream",
     "text": [
      "Data length 2000\n"
     ]
    }
   ],
   "source": [
    "f = open(\"input.txt\", \"r\")\n",
    "data = f.read().split(\"\\n\")\n",
    "\n",
    "# convert all strings to integers.\n",
    "numbers = [int(i) for i in data]\n",
    "print(\"Data length {0}\".format(len(numbers)))"
   ]
  },
  {
   "cell_type": "markdown",
   "id": "8fba8287",
   "metadata": {},
   "source": [
    "## Solve Part 1\n",
    "The solution to Part 1 involves looping through almost all of the data. We will compare the current entry to the previous entry. We will count the number of times the numbers increase."
   ]
  },
  {
   "cell_type": "code",
   "execution_count": 2,
   "id": "7b422670",
   "metadata": {},
   "outputs": [
    {
     "name": "stdout",
     "output_type": "stream",
     "text": [
      "Solution to Part 1 1602\n"
     ]
    }
   ],
   "source": [
    "increases = 0\n",
    "for i in range(1, len(data)):\n",
    "    if numbers[i] > numbers[i-1]:\n",
    "        increases += 1\n",
    "        \n",
    "print(\"Solution to Part 1 {0}\".format(increases))"
   ]
  },
  {
   "cell_type": "markdown",
   "id": "d51b5c26",
   "metadata": {},
   "source": [
    "## Solve Part 2\n",
    "\n",
    "The solution to Part 2 is almost the same as for Part 1. A key shortcut is to realize that you don't really have to add all three numbers in the sliding window. You can compare the first number in the old window to the last number in the new window. This is because there are two terms common in each sum."
   ]
  },
  {
   "cell_type": "code",
   "execution_count": 3,
   "id": "5f4cf6a6",
   "metadata": {},
   "outputs": [
    {
     "name": "stdout",
     "output_type": "stream",
     "text": [
      "Solution to Part 2 1633\n"
     ]
    }
   ],
   "source": [
    "increases = 0\n",
    "for i in range(3, len(data)):\n",
    "    if numbers[i] > numbers[i-3]:\n",
    "        increases += 1\n",
    "        \n",
    "print(\"Solution to Part 2 {0}\".format(increases))"
   ]
  },
  {
   "cell_type": "markdown",
   "id": "21e12f13",
   "metadata": {},
   "source": [
    "## Code\n",
    "[link to Jupyter Notebook file](./2021-12-01/Advent_of_Code_2021-Day_1.ipynb)"
   ]
  }
 ],
 "metadata": {
  "kernelspec": {
   "display_name": "Python 3 (ipykernel)",
   "language": "python",
   "name": "python3"
  },
  "language_info": {
   "codemirror_mode": {
    "name": "ipython",
    "version": 3
   },
   "file_extension": ".py",
   "mimetype": "text/x-python",
   "name": "python",
   "nbconvert_exporter": "python",
   "pygments_lexer": "ipython3",
   "version": "3.9.7"
  }
 },
 "nbformat": 4,
 "nbformat_minor": 5
}
