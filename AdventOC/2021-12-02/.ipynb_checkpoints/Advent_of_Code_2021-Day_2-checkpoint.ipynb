{
 "cells": [
  {
   "cell_type": "markdown",
   "id": "ba001261",
   "metadata": {},
   "source": [
    "# Advent of Code 2021 - Day 2\n",
    "\n",
    "## Link to Puzzle\n",
    "[Advent of Code 2021 Day 2](https://adventofcode.com/2021/day/2)\n",
    "\n",
    "## Input of the data\n",
    "Since the data for the puzzles are lines of text, we can input the data the same way each time."
   ]
  },
  {
   "cell_type": "code",
   "execution_count": 2,
   "id": "8a0cdd34",
   "metadata": {
    "scrolled": true
   },
   "outputs": [
    {
     "name": "stdout",
     "output_type": "stream",
     "text": [
      "Data length 1000\n"
     ]
    }
   ],
   "source": [
    "f = open(\"input.txt\", \"r\")\n",
    "lines = f.read().split(\"\\n\")\n",
    "print(\"Data length {0}\".format(len(lines)))"
   ]
  },
  {
   "cell_type": "markdown",
   "id": "8fba8287",
   "metadata": {},
   "source": [
    "## Solve Part 1\n",
    "The solution to Part 1 involves looping through the data. Each line will change the horizontal position or depth. We have to use the first character to determine which value to change. The last character tells the quantity."
   ]
  },
  {
   "cell_type": "code",
   "execution_count": 6,
   "id": "7b422670",
   "metadata": {},
   "outputs": [
    {
     "name": "stdout",
     "output_type": "stream",
     "text": [
      "Solution to Part 1 1714950\n"
     ]
    }
   ],
   "source": [
    "horizontal = 0\n",
    "depth = 0\n",
    "for l in lines:\n",
    "    if(l[0] == \"f\"):\n",
    "        horizontal += int(l[-1])\n",
    "    elif(l[0] == \"d\"):\n",
    "        depth += int(l[-1])\n",
    "    else:\n",
    "        depth -= int(l[-1])\n",
    "\n",
    "        \n",
    "print(\"Solution to Part 1 {0}\".format(horizontal * depth))"
   ]
  },
  {
   "cell_type": "markdown",
   "id": "d51b5c26",
   "metadata": {},
   "source": [
    "## Solve Part 2\n",
    "\n",
    "The solution to Part 2 is almost the same as for Part 1. The difference is that the input changes the aim, depth, and horizontal postions differently than in Part 1."
   ]
  },
  {
   "cell_type": "code",
   "execution_count": 8,
   "id": "5f4cf6a6",
   "metadata": {},
   "outputs": [
    {
     "name": "stdout",
     "output_type": "stream",
     "text": [
      "Solution to Part 2 1281977850\n"
     ]
    }
   ],
   "source": [
    "horizontal = 0\n",
    "depth = 0\n",
    "aim = 0\n",
    "for l in lines:\n",
    "    if(l[0] == \"f\"):\n",
    "        horizontal += int(l[-1])\n",
    "        depth += aim * int(l[-1])\n",
    "    elif(l[0] == \"d\"):\n",
    "        aim += int(l[-1])\n",
    "    else:\n",
    "        aim -= int(l[-1])\n",
    "        \n",
    "print(\"Solution to Part 2 {0}\".format(horizontal * depth))"
   ]
  },
  {
   "cell_type": "markdown",
   "id": "21e12f13",
   "metadata": {},
   "source": [
    "## Code\n",
    "[link to Jupyter Notebook file](./2021-12-01/Advent_of_Code_2021-Day_2.ipynb)"
   ]
  }
 ],
 "metadata": {
  "kernelspec": {
   "display_name": "Python 3 (ipykernel)",
   "language": "python",
   "name": "python3"
  },
  "language_info": {
   "codemirror_mode": {
    "name": "ipython",
    "version": 3
   },
   "file_extension": ".py",
   "mimetype": "text/x-python",
   "name": "python",
   "nbconvert_exporter": "python",
   "pygments_lexer": "ipython3",
   "version": "3.9.7"
  }
 },
 "nbformat": 4,
 "nbformat_minor": 5
}
