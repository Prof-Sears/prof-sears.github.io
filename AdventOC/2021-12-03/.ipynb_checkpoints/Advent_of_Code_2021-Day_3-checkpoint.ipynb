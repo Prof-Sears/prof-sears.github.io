{
 "cells": [
  {
   "cell_type": "markdown",
   "metadata": {},
   "source": [
    "# Advent of Code 2021 - Day 3\n",
    "\n",
    "## Link to Puzzle\n",
    "[Advent of Code 2021 Day 3](https://adventofcode.com/2021/day/3)\n",
    "\n",
    "## Input of the data\n",
    "Since the data for the puzzles are lines of text, we can input the data the same way each time."
   ]
  },
  {
   "cell_type": "code",
   "execution_count": 2,
   "metadata": {
    "scrolled": true
   },
   "outputs": [
    {
     "name": "stdout",
     "output_type": "stream",
     "text": [
      "Data length 1000\n"
     ]
    }
   ],
   "source": [
    "f = open(\"input.txt\", \"r\")\n",
    "lines = f.read().split(\"\\n\")\n",
    "print(\"Data length {0}\".format(len(lines)))"
   ]
  },
  {
   "cell_type": "markdown",
   "metadata": {},
   "source": [
    "## Solve Part 1\n",
    "The solution to Part 1 involves finding the most common bit in each position. If 0 is the most common bit, then we add a 1 to the epsilon number in the corresponding postion. Otherwise, we add the 1 in the corresponding position in the gamma number.\n",
    "\n",
    "This could probably be done more efficiently with bitmasks."
   ]
  },
  {
   "cell_type": "code",
   "execution_count": 10,
   "metadata": {},
   "outputs": [
    {
     "name": "stdout",
     "output_type": "stream",
     "text": [
      "Part 1 Solution: 3549854\n"
     ]
    }
   ],
   "source": [
    "gamma = 0\n",
    "epsilon = 0\n",
    "for i in range(len(lines[0])):\n",
    "    if len([l for l in lines if l[i] == \"0\"]) > len(lines)/2:\n",
    "        epsilon += 2**(11 - i)\n",
    "    else:\n",
    "        gamma += 2**(11 - i)\n",
    "        \n",
    "print(\"Part 1 Solution: {}\".format(gamma * epsilon))"
   ]
  },
  {
   "cell_type": "markdown",
   "metadata": {},
   "source": [
    "## Solve Part 2\n",
    "\n",
    "Part 2 involves filtering out values from each list based on the most common bit in each postion. This one was much trickier than Part 1."
   ]
  },
  {
   "cell_type": "code",
   "execution_count": 22,
   "metadata": {},
   "outputs": [
    {
     "name": "stdout",
     "output_type": "stream",
     "text": [
      "Part 2 Solution: 3765399\n"
     ]
    }
   ],
   "source": [
    "oxyList = lines[:]\n",
    "mc = \"0\"\n",
    "pos = 0\n",
    "while len(oxyList) > 1:\n",
    "    if len([l for l in oxyList if l[pos] == \"0\"]) > len(oxyList)/2:\n",
    "        mc = \"0\"\n",
    "    else:\n",
    "        mc = \"1\"\n",
    "    oxyList = [l for l in oxyList if l[pos] == mc]\n",
    "    # print(len(oxyList))\n",
    "    pos += 1\n",
    "oxygen = int(oxyList[0], 2)\n",
    "\n",
    "co2List = lines[:]\n",
    "pos = 0\n",
    "while len(co2List) > 1:\n",
    "    if len([l for l in co2List if l[pos] == \"0\"]) > len(co2List)/2:\n",
    "        mc = \"1\"\n",
    "    else:\n",
    "        mc = \"0\"\n",
    "    co2List = [l for l in co2List if l[pos] == mc]\n",
    "    # print(len(co2List))\n",
    "    pos += 1\n",
    "co2 = int(co2List[0], 2)\n",
    "        \n",
    "print(\"Part 2 Solution: {}\".format(oxygen * co2))"
   ]
  },
  {
   "cell_type": "markdown",
   "metadata": {},
   "source": [
    "## Code\n",
    "[link to Jupyter Notebook file](./2021-12-02/Advent_of_Code_2021-Day_3.ipynb)"
   ]
  }
 ],
 "metadata": {
  "kernelspec": {
   "display_name": "Python 3",
   "language": "python",
   "name": "python3"
  },
  "language_info": {
   "codemirror_mode": {
    "name": "ipython",
    "version": 3
   },
   "file_extension": ".py",
   "mimetype": "text/x-python",
   "name": "python",
   "nbconvert_exporter": "python",
   "pygments_lexer": "ipython3",
   "version": "3.8.10"
  }
 },
 "nbformat": 4,
 "nbformat_minor": 5
}
